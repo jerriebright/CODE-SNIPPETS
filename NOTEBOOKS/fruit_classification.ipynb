{
  "nbformat": 4,
  "nbformat_minor": 0,
  "metadata": {
    "colab": {
      "name": "fruit_classification.ipynb",
      "private_outputs": true,
      "provenance": []
    },
    "kernelspec": {
      "name": "python3",
      "display_name": "Python 3"
    }
  },
  "cells": [
    {
      "cell_type": "code",
      "metadata": {
        "id": "vYqxLqDOMQqf"
      },
      "source": [
        "# This Python 3 environment comes with many helpful analytics libraries installed\r\n",
        "# It is defined by the kaggle/python docker image: https://github.com/kaggle/docker-python\r\n",
        "# For example, here's several helpful packages to load in \r\n",
        "\r\n",
        "import numpy as np # linear algebra\r\n",
        "import pandas as pd # data processing, CSV file I/O (e.g. pd.read_csv)\r\n",
        "\r\n",
        "# Input data files are available in the \"../input/\" directory.\r\n",
        "# For example, running this (by clicking run or pressing Shift+Enter) will list the files in the input directory\r\n",
        "\r\n",
        "import os\r\n",
        "print(os.listdir(\"../input\"))\r\n",
        "\r\n",
        "# Any results you write to the current directory are saved as output."
      ],
      "execution_count": null,
      "outputs": []
    },
    {
      "cell_type": "code",
      "metadata": {
        "id": "mMnPSvTQMSJ4"
      },
      "source": [
        "!ls"
      ],
      "execution_count": null,
      "outputs": []
    },
    {
      "cell_type": "code",
      "metadata": {
        "id": "ib6-L8PTMSMW"
      },
      "source": [
        "import sklearn.datasets\r\n",
        "import sklearn.model_selection\r\n",
        "import keras.preprocessing.image\r\n",
        "import keras.utils\r\n",
        "import matplotlib.pyplot as plt\r\n",
        "from keras.preprocessing.image import ImageDataGenerator\r\n",
        "from skimage import color\r\n",
        "from sklearn.metrics import accuracy_score\r\n",
        "import keras.callbacks\r\n",
        "import os\r\n",
        "import numpy as np\r\n",
        "import cv2\r\n",
        "    \r\n",
        "train_dir = '../input/fruits-360_dataset/fruits-360/Training'\r\n",
        "trainData=sklearn.datasets.load_files(train_dir,load_content=False)\r\n",
        "\r\n",
        "test_dir = '../input/fruits-360_dataset/fruits-360/Test'\r\n",
        "testData=sklearn.datasets.load_files(test_dir,load_content=False)\r\n",
        "\r\n",
        "y_train = np.array(trainData['target'])\r\n",
        "y_train_names = np.array(trainData['target_names'])\r\n",
        "\r\n",
        "y_test = np.array(testData['target'])\r\n",
        "y_test_names = np.array(testData['target_names'])\r\n",
        "\r\n",
        "nclasses = len(np.unique(y_train))\r\n",
        "target_size=50\r\n",
        "\r\n",
        "x_train=[]\r\n",
        "for filename in trainData['filenames']:\r\n",
        "    x_train.append(\r\n",
        "            keras.preprocessing.image.img_to_array(\r\n",
        "                    keras.preprocessing.image.load_img(filename,target_size=(target_size, target_size))\r\n",
        "                    )\r\n",
        "            )\r\n",
        "    \r\n",
        "    \r\n",
        "x_test=[]\r\n",
        "for filename in testData['filenames']:\r\n",
        "    x_test.append(\r\n",
        "            keras.preprocessing.image.img_to_array(\r\n",
        "                    keras.preprocessing.image.load_img(filename,target_size=(target_size, target_size))\r\n",
        "                    )\r\n",
        "            )"
      ],
      "execution_count": null,
      "outputs": []
    },
    {
      "cell_type": "code",
      "metadata": {
        "id": "dvYeSopuMSO_"
      },
      "source": [
        "x_train=np.array(x_train)\r\n",
        "x_train=x_train/255\r\n",
        "y_train=keras.utils.np_utils.to_categorical(y_train,nclasses)\r\n",
        "\r\n",
        "\r\n",
        "x_test=np.array(x_test)\r\n",
        "x_test=x_test/255\r\n",
        "y_test=keras.utils.np_utils.to_categorical(y_test,nclasses)"
      ],
      "execution_count": null,
      "outputs": []
    },
    {
      "cell_type": "code",
      "metadata": {
        "id": "9UlNNn3tMSTH"
      },
      "source": [
        "x_train, x_val, y_train, y_val = sklearn.model_selection.train_test_split(\r\n",
        "        x_train, y_train, test_size=0.2\r\n",
        ")\r\n",
        "print(y_train.shape)\r\n",
        "print(y_val.shape)"
      ],
      "execution_count": null,
      "outputs": []
    },
    {
      "cell_type": "code",
      "metadata": {
        "id": "gE03iWGwMSVx"
      },
      "source": [
        "images = keras.layers.Input(x_train.shape[1:])\r\n",
        "\r\n",
        "#inizio blocco 1\r\n",
        "x = keras.layers.Conv2D(filters=16, kernel_size=[1, 1], padding='same')(images)\r\n",
        "block = keras.layers.Conv2D(filters=16, kernel_size=[3, 3], padding=\"same\")(x)\r\n",
        "block = keras.layers.BatchNormalization()(block)\r\n",
        "block = keras.layers.Activation(\"relu\")(block)\r\n",
        "block = keras.layers.Conv2D(filters=16, kernel_size=[3, 3], padding=\"same\")(block)\r\n",
        "\r\n",
        "#inio Squeeze and Excitation 1\r\n",
        "sq = keras.layers.GlobalAveragePooling2D()(block)\r\n",
        "sq = keras.layers.Reshape((1,1,16))(sq)\r\n",
        "sq = keras.layers.Dense(units=16,activation=\"sigmoid\")(sq)\r\n",
        "block = keras.layers.multiply([block,sq])\r\n",
        "#fine Squeeze and Excitation 1\r\n",
        "\r\n",
        "net = keras.layers.add([x,block])\r\n",
        "net = keras.layers.BatchNormalization()(net)\r\n",
        "net = keras.layers.Activation(\"relu\")(net)\r\n",
        "net = keras.layers.MaxPooling2D(pool_size=(2, 2),name=\"block_1\")(net)\r\n",
        "\r\n",
        "\r\n",
        "\r\n",
        "#fine blocco 1\r\n",
        "#inizio blocco 2\r\n",
        "x = keras.layers.Conv2D(filters=32, kernel_size=[1, 1], padding='same')(net)\r\n",
        "block = keras.layers.Conv2D(filters=32, kernel_size=[3, 3], padding=\"same\")(x)\r\n",
        "block = keras.layers.BatchNormalization()(block)\r\n",
        "block = keras.layers.Activation(\"relu\")(block)\r\n",
        "block = keras.layers.Conv2D(filters=32, kernel_size=[3, 3], padding=\"same\")(block)\r\n",
        "\r\n",
        "#inio Squeeze and Excitation 2\r\n",
        "sq = keras.layers.GlobalAveragePooling2D()(block)\r\n",
        "sq = keras.layers.Reshape((1,1,32))(sq)\r\n",
        "sq = keras.layers.Dense(units=32,activation=\"sigmoid\")(sq)\r\n",
        "block = keras.layers.multiply([block,sq])\r\n",
        "#fine Squeeze and Excitation 2\r\n",
        "\r\n",
        "\r\n",
        "net = keras.layers.add([x,block])\r\n",
        "net = keras.layers.BatchNormalization()(net)\r\n",
        "net = keras.layers.Activation(\"relu\")(net)\r\n",
        "net = keras.layers.MaxPooling2D(pool_size=(2, 2),name=\"block_2\")(net)\r\n",
        "#fine blocco 2\r\n",
        "#inizio blocco 3\r\n",
        "x = keras.layers.Conv2D(filters=64, kernel_size=[1, 1], padding='same')(net)\r\n",
        "block = keras.layers.Conv2D(filters=64, kernel_size=[3, 3], padding=\"same\")(x)\r\n",
        "block = keras.layers.BatchNormalization()(block)\r\n",
        "block = keras.layers.Activation(\"relu\")(block)\r\n",
        "block = keras.layers.Conv2D(filters=64, kernel_size=[3, 3], padding=\"same\")(block)\r\n",
        "\r\n",
        "#inio Squeeze and Excitation 3\r\n",
        "sq = keras.layers.GlobalAveragePooling2D()(block)\r\n",
        "sq = keras.layers.Reshape((1,1,64))(sq)\r\n",
        "sq = keras.layers.Dense(units=64,activation=\"sigmoid\")(sq)\r\n",
        "block = keras.layers.multiply([block,sq])\r\n",
        "#fine Squeeze and Excitation 3\r\n",
        "\r\n",
        "net = keras.layers.add([x,block])\r\n",
        "net = keras.layers.Activation(\"relu\", name=\"block_3\")(net)\r\n",
        "\r\n",
        "\r\n",
        "\r\n",
        "net = keras.layers.BatchNormalization()(net)\r\n",
        "net = keras.layers.Dropout(0.25)(net)\r\n",
        "\r\n",
        "net = keras.layers.GlobalAveragePooling2D()(net)\r\n",
        "net = keras.layers.Dense(units=nclasses,activation=\"softmax\")(net)\r\n",
        "\r\n",
        "model = keras.models.Model(inputs=images,outputs=net)\r\n",
        "\r\n",
        "\r\n",
        "model.summary()"
      ],
      "execution_count": null,
      "outputs": []
    },
    {
      "cell_type": "code",
      "metadata": {
        "id": "AjtRkv-OMSYe"
      },
      "source": [
        "from IPython.display import SVG\r\n",
        "import IPython\r\n",
        "from keras.utils import model_to_dot\r\n",
        "\r\n",
        "print(model.summary())\r\n",
        "\r\n",
        "keras.utils.plot_model(model, to_file='test_keras_plot_model.png', show_shapes=True)\r\n",
        "IPython.display.Image('test_keras_plot_model.png')"
      ],
      "execution_count": null,
      "outputs": []
    },
    {
      "cell_type": "code",
      "metadata": {
        "id": "pgVvPxNRMesm"
      },
      "source": [
        "model.compile(loss='categorical_crossentropy',\r\n",
        "              optimizer='adadelta',\r\n",
        "              metrics=['accuracy'])\r\n",
        "checkpointer = keras.callbacks.ModelCheckpoint(filepath = 'cnn_from_scratch_fruits.hdf5', verbose = 1, save_best_only = True)\r\n",
        "earlystopper = keras.callbacks.EarlyStopping(monitor='val_loss', min_delta=0, patience=5, verbose=0, mode='auto', baseline=None, restore_best_weights=False)"
      ],
      "execution_count": null,
      "outputs": []
    },
    {
      "cell_type": "code",
      "metadata": {
        "id": "F_vYoiETMevU"
      },
      "source": [
        "history=model.fit(x_train, y_train, batch_size=64, epochs=15,validation_data=(x_val, y_val), callbacks = [checkpointer,earlystopper], shuffle=True)"
      ],
      "execution_count": null,
      "outputs": []
    },
    {
      "cell_type": "code",
      "metadata": {
        "id": "CERtAFdCMexS"
      },
      "source": [
        "model.load_weights('cnn_from_scratch_fruits.hdf5')"
      ],
      "execution_count": null,
      "outputs": []
    },
    {
      "cell_type": "code",
      "metadata": {
        "id": "m4tLQacRMezv"
      },
      "source": [
        "plt.plot(history.history['accuracy'])\r\n",
        "plt.plot(history.history['val_accuracy'])\r\n",
        "plt.title('Model accuracy')\r\n",
        "plt.ylabel('Accuracy')\r\n",
        "plt.xlabel('Epoch')\r\n",
        "plt.legend(['Train', 'Validation'], loc='upper left')\r\n",
        "plt.show()"
      ],
      "execution_count": null,
      "outputs": []
    },
    {
      "cell_type": "code",
      "metadata": {
        "id": "OXXtVNR3Me5a"
      },
      "source": [
        "# Plot training & validation loss values\r\n",
        "plt.plot(history.history['loss'])\r\n",
        "plt.plot(history.history['val_loss'])\r\n",
        "plt.title('Model loss')\r\n",
        "plt.ylabel('Loss')\r\n",
        "plt.xlabel('Epoch')\r\n",
        "plt.legend(['Train', 'Validation'], loc='upper left')\r\n",
        "plt.show()"
      ],
      "execution_count": null,
      "outputs": []
    },
    {
      "cell_type": "code",
      "metadata": {
        "id": "wYMXKfHYMx58"
      },
      "source": [
        "y_test_pred = model.predict(x_test)\r\n",
        "accuracy_score(np.argmax(y_test_pred,axis=1), np.argmax(y_test,axis=1))"
      ],
      "execution_count": null,
      "outputs": []
    }
  ]
}