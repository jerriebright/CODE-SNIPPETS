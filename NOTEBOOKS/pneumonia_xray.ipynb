{
  "nbformat": 4,
  "nbformat_minor": 0,
  "metadata": {
    "kernelspec": {
      "name": "python3",
      "display_name": "Python 3",
      "language": "python"
    },
    "language_info": {
      "name": "python",
      "version": "3.6.4",
      "mimetype": "text/x-python",
      "codemirror_mode": {
        "name": "ipython",
        "version": 3
      },
      "pygments_lexer": "ipython3",
      "nbconvert_exporter": "python",
      "file_extension": ".py"
    },
    "colab": {
      "name": "pneumonia-xray.ipynb",
      "provenance": []
    }
  },
  "cells": [
    {
      "cell_type": "code",
      "metadata": {
        "_cell_guid": "79c7e3d0-c299-4dcb-8224-4455121ee9b0",
        "_uuid": "d629ff2d2480ee46fbb7e2d37f6b5fab8052498a",
        "trusted": true,
        "id": "VRdw-CrlV7AB",
        "outputId": "6561df76-d1a7-4148-dfd5-989d547e228b"
      },
      "source": [
        "import numpy as np \n",
        "import pandas as pd \n",
        "import os\n",
        "print(os.listdir(\"../input\"))\n",
        "import keras\n",
        "import h5py\n",
        "import matplotlib.pyplot as plt\n",
        "from keras.models import Sequential\n",
        "from keras.layers import Conv2D,MaxPool2D,Dense,Dropout,Softmax,Input,Flatten\n",
        "from keras.optimizers import Adam,RMSprop,SGD\n",
        "from keras.layers.merge import add\n",
        "from keras.layers import Dense, Activation, Flatten\n",
        "from keras.layers import Conv2D, MaxPooling2D, BatchNormalization\n",
        "from keras.layers import BatchNormalization\n",
        "from keras.callbacks import ModelCheckpoint, Callback, EarlyStopping\n",
        "from tensorflow import set_random_seed\n",
        "from sklearn.metrics import roc_auc_score,roc_curve,accuracy_score,recall_score\n",
        "from keras.metrics import categorical_accuracy\n",
        "%matplotlib inline\n",
        "from keras.preprocessing.image import ImageDataGenerator\n",
        "os.environ['PYTHONHASHSEED'] = \"0\"\n",
        "np.random.seed(1)\n",
        "set_random_seed(1)"
      ],
      "execution_count": null,
      "outputs": [
        {
          "output_type": "stream",
          "text": [
            "/opt/conda/lib/python3.6/site-packages/h5py/__init__.py:36: FutureWarning: Conversion of the second argument of issubdtype from `float` to `np.floating` is deprecated. In future, it will be treated as `np.float64 == np.dtype(float).type`.\n",
            "  from ._conv import register_converters as _register_converters\n",
            "Using TensorFlow backend.\n"
          ],
          "name": "stderr"
        }
      ]
    },
    {
      "cell_type": "code",
      "metadata": {
        "trusted": true,
        "_uuid": "58e7c2c1911ff3e40f19307ce031484cf53202fc",
        "id": "b2x_y_-_V7AM"
      },
      "source": [
        "model = Sequential()\n",
        "model.add(Conv2D(32, (3,3), strides=(1,1), padding='same', input_shape=(64,64,1), activation='relu'))\n",
        "model.add(Conv2D(32, (3,3), strides=(1,1), padding='same', activation='relu'))\n",
        "model.add(MaxPooling2D((2,2)))\n",
        "\n",
        "model.add(Conv2D(64, (3,3), strides=(1,1), padding='same', activation='relu'))\n",
        "model.add(BatchNormalization())\n",
        "model.add(Conv2D(64, (3,3), strides=(1,1), padding='same', activation='relu'))\n",
        "model.add(MaxPooling2D((2,2)))\n",
        "\n",
        "model.add(Conv2D(128, (3,3), strides=(1,1), padding='same', activation='relu'))\n",
        "model.add(BatchNormalization())\n",
        "model.add(Conv2D(128, (3,3), strides=(1,1), padding='same', activation='relu'))\n",
        "model.add(MaxPooling2D((2,2)))\n",
        "\n",
        "model.add(Flatten())\n",
        "model.add(Dense(1024, activation='relu'))\n",
        "model.add(BatchNormalization())\n",
        "model.add(Dropout(0.60))\n",
        "model.add(Dense(512, activation='relu'))\n",
        "model.add(BatchNormalization())\n",
        "model.add(Dropout(0.4))\n",
        "model.add(Dense(2, activation='softmax'))"
      ],
      "execution_count": null,
      "outputs": []
    },
    {
      "cell_type": "code",
      "metadata": {
        "trusted": true,
        "_uuid": "a05d6101e508412105d49a1831e1c458a983b45f",
        "id": "zny-G05qV7AO",
        "outputId": "1c46cc6a-4073-48c8-9e8e-1b10a2dfba1d"
      },
      "source": [
        "model.summary()"
      ],
      "execution_count": null,
      "outputs": [
        {
          "output_type": "stream",
          "text": [
            "_________________________________________________________________\n",
            "Layer (type)                 Output Shape              Param #   \n",
            "=================================================================\n",
            "conv2d_1 (Conv2D)            (None, 64, 64, 32)        320       \n",
            "_________________________________________________________________\n",
            "conv2d_2 (Conv2D)            (None, 64, 64, 32)        9248      \n",
            "_________________________________________________________________\n",
            "max_pooling2d_1 (MaxPooling2 (None, 32, 32, 32)        0         \n",
            "_________________________________________________________________\n",
            "conv2d_3 (Conv2D)            (None, 32, 32, 64)        18496     \n",
            "_________________________________________________________________\n",
            "batch_normalization_1 (Batch (None, 32, 32, 64)        256       \n",
            "_________________________________________________________________\n",
            "conv2d_4 (Conv2D)            (None, 32, 32, 64)        36928     \n",
            "_________________________________________________________________\n",
            "max_pooling2d_2 (MaxPooling2 (None, 16, 16, 64)        0         \n",
            "_________________________________________________________________\n",
            "conv2d_5 (Conv2D)            (None, 16, 16, 128)       73856     \n",
            "_________________________________________________________________\n",
            "batch_normalization_2 (Batch (None, 16, 16, 128)       512       \n",
            "_________________________________________________________________\n",
            "conv2d_6 (Conv2D)            (None, 16, 16, 128)       147584    \n",
            "_________________________________________________________________\n",
            "max_pooling2d_3 (MaxPooling2 (None, 8, 8, 128)         0         \n",
            "_________________________________________________________________\n",
            "flatten_1 (Flatten)          (None, 8192)              0         \n",
            "_________________________________________________________________\n",
            "dense_1 (Dense)              (None, 1024)              8389632   \n",
            "_________________________________________________________________\n",
            "batch_normalization_3 (Batch (None, 1024)              4096      \n",
            "_________________________________________________________________\n",
            "dropout_1 (Dropout)          (None, 1024)              0         \n",
            "_________________________________________________________________\n",
            "dense_2 (Dense)              (None, 512)               524800    \n",
            "_________________________________________________________________\n",
            "batch_normalization_4 (Batch (None, 512)               2048      \n",
            "_________________________________________________________________\n",
            "dropout_2 (Dropout)          (None, 512)               0         \n",
            "_________________________________________________________________\n",
            "dense_3 (Dense)              (None, 2)                 1026      \n",
            "=================================================================\n",
            "Total params: 9,208,802\n",
            "Trainable params: 9,205,346\n",
            "Non-trainable params: 3,456\n",
            "_________________________________________________________________\n"
          ],
          "name": "stdout"
        }
      ]
    },
    {
      "cell_type": "code",
      "metadata": {
        "trusted": true,
        "_uuid": "737cef005a1c4174951289dc2fbd87cf8ec9ee5a",
        "id": "8_K-uF4IV7AO"
      },
      "source": [
        "model.compile(Adam(lr=0.0001, decay=1e-5),loss=\"categorical_crossentropy\", metrics=[\"accuracy\"])"
      ],
      "execution_count": null,
      "outputs": []
    },
    {
      "cell_type": "code",
      "metadata": {
        "trusted": true,
        "_uuid": "4b9e27123eacad42ea57d23a5f0aec76a6b4d4be",
        "id": "s26gAUG7V7AP",
        "outputId": "2e8b0458-c7fd-4866-a04f-7f3214cfc918"
      },
      "source": [
        "gen = ImageDataGenerator()\n",
        "train_batches = gen.flow_from_directory(\"../input/chest-xray-pneumonia/chest_xray/chest_xray/train\",model.input_shape[1:3],color_mode=\"grayscale\",shuffle=True,seed=1,\n",
        "                                        batch_size=16)\n",
        "valid_batches = gen.flow_from_directory(\"../input/chest-xray-pneumonia/chest_xray/chest_xray/val\", model.input_shape[1:3],color_mode=\"grayscale\", shuffle=True,seed=1,\n",
        "                                        batch_size=16)\n",
        "test_batches = gen.flow_from_directory(\"../input/chest-xray-pneumonia/chest_xray/chest_xray/test\", model.input_shape[1:3], shuffle=False,\n",
        "                                       color_mode=\"grayscale\", batch_size=8)"
      ],
      "execution_count": null,
      "outputs": [
        {
          "output_type": "stream",
          "text": [
            "Found 5216 images belonging to 2 classes.\n",
            "Found 16 images belonging to 2 classes.\n",
            "Found 624 images belonging to 2 classes.\n"
          ],
          "name": "stdout"
        }
      ]
    },
    {
      "cell_type": "code",
      "metadata": {
        "trusted": true,
        "_uuid": "84176de638b4be4dfc06ad7f04daa5f18b1f631e",
        "id": "xKB1oBW-V7AQ"
      },
      "source": [
        "es = EarlyStopping(monitor='val_loss',patience=5)\n",
        "chkpt = ModelCheckpoint(filepath='best_model_todate', save_best_only=True, save_weights_only=True)"
      ],
      "execution_count": null,
      "outputs": []
    },
    {
      "cell_type": "code",
      "metadata": {
        "trusted": true,
        "_uuid": "4c1187c50ebfbe41e55d079e35299cfb2d0f36ad",
        "id": "NHD3eLV4V7AQ",
        "outputId": "875a3563-0a8c-4fff-f251-8e4b19c30b5c"
      },
      "source": [
        "model.fit_generator(train_batches,validation_data=valid_batches,epochs=50, steps_per_epoch=16, validation_steps=16)"
      ],
      "execution_count": null,
      "outputs": [
        {
          "output_type": "stream",
          "text": [
            "Epoch 1/50\n",
            "16/16 [==============================] - 7s 435ms/step - loss: 0.1498 - acc: 0.9648 - val_loss: 0.4005 - val_acc: 0.8125\n",
            "Epoch 2/50\n",
            "16/16 [==============================] - 5s 323ms/step - loss: 0.1507 - acc: 0.9492 - val_loss: 0.1723 - val_acc: 0.9375\n",
            "Epoch 3/50\n",
            "16/16 [==============================] - 5s 317ms/step - loss: 0.1295 - acc: 0.9492 - val_loss: 0.1476 - val_acc: 0.9375\n",
            "Epoch 4/50\n",
            "16/16 [==============================] - 5s 311ms/step - loss: 0.2840 - acc: 0.9141 - val_loss: 0.5030 - val_acc: 0.6875\n",
            "Epoch 5/50\n",
            "16/16 [==============================] - 6s 348ms/step - loss: 0.1715 - acc: 0.9297 - val_loss: 0.4596 - val_acc: 0.7500\n",
            "Epoch 6/50\n",
            "16/16 [==============================] - 5s 301ms/step - loss: 0.1411 - acc: 0.9492 - val_loss: 0.9922 - val_acc: 0.5625\n",
            "Epoch 7/50\n",
            "16/16 [==============================] - 5s 337ms/step - loss: 0.1359 - acc: 0.9453 - val_loss: 1.8661 - val_acc: 0.5000\n",
            "Epoch 8/50\n",
            "16/16 [==============================] - 5s 311ms/step - loss: 0.2343 - acc: 0.9375 - val_loss: 0.7912 - val_acc: 0.5625\n"
          ],
          "name": "stdout"
        },
        {
          "output_type": "execute_result",
          "data": {
            "text/plain": [
              "<keras.callbacks.History at 0x7ff605b9c898>"
            ]
          },
          "metadata": {
            "tags": []
          },
          "execution_count": 16
        }
      ]
    },
    {
      "cell_type": "code",
      "metadata": {
        "trusted": true,
        "_uuid": "0b40bec2965104bfb7cf9a8d4a0157dabfba0ec7",
        "id": "ujVhSR_DV7AR",
        "outputId": "391642a2-cbf5-464c-fa1e-a620bb9e26b4"
      },
      "source": [
        "no_steps = len(test_batches)\n",
        "p = model.predict_generator(test_batches, steps=no_steps, verbose=True)\n",
        "pre = pd.DataFrame(p)\n",
        "pre[\"filename\"] = test_batches.filenames\n",
        "pre[\"label\"] = (pre[\"filename\"].str.contains(\"PNEUMONIA\")).apply(int)\n",
        "pre['pre'] = (pre[1]>0.5).apply(int)\n",
        "accuracy_score(pre[\"label\"], pre[\"pre\"])"
      ],
      "execution_count": null,
      "outputs": [
        {
          "output_type": "stream",
          "text": [
            "78/78 [==============================] - 11s 140ms/step\n"
          ],
          "name": "stdout"
        },
        {
          "output_type": "execute_result",
          "data": {
            "text/plain": [
              "0.7115384615384616"
            ]
          },
          "metadata": {
            "tags": []
          },
          "execution_count": 17
        }
      ]
    },
    {
      "cell_type": "code",
      "metadata": {
        "trusted": true,
        "_uuid": "ec162a7766da354dc9249ac22afab80ce69e3a24",
        "id": "_wIduX8zV7AS",
        "outputId": "5da815c4-d660-48af-dd16-6086279cb017"
      },
      "source": [
        "from sklearn.metrics import confusion_matrix\n",
        "CM = confusion_matrix(pre[\"label\"], pre[\"pre\"])\n",
        "from mlxtend.plotting import plot_confusion_matrix\n",
        "fig, ax = plot_confusion_matrix(conf_mat=CM ,  figsize=(5, 5))\n",
        "plt.show()"
      ],
      "execution_count": null,
      "outputs": [
        {
          "output_type": "display_data",
          "data": {
            "text/plain": [
              "<matplotlib.figure.Figure at 0x7ff605b9c518>"
            ],
            "image/png": "[encoded data removed]"
          },
          "metadata": {
            "tags": []
          }
        }
      ]
    },
    {
      "cell_type": "code",
      "metadata": {
        "trusted": true,
        "_uuid": "daa61f3b92a8d03137d71005746b99b46cbe6a0d",
        "id": "-NVpSKnoV7AS",
        "outputId": "ef760cd9-1e72-4f75-c6f9-8f7a227867de"
      },
      "source": [
        "# Calculate Precision and Recall\n",
        "tn, fp, fn, tp = CM.ravel()\n",
        "\n",
        "precision = tp/(tp+fp)\n",
        "recall = tp/(tp+fn)\n",
        "\n",
        "print(\"Recall of the model is {:.2f}\".format(recall))\n",
        "print(\"Precision of the model is {:.2f}\".format(precision))"
      ],
      "execution_count": null,
      "outputs": [
        {
          "output_type": "stream",
          "text": [
            "Recall of the model is 1.00\n",
            "Precision of the model is 0.68\n"
          ],
          "name": "stdout"
        }
      ]
    }
  ]
}